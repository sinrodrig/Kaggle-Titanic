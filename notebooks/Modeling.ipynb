{
 "cells": [
  {
   "cell_type": "markdown",
   "id": "43debe34",
   "metadata": {},
   "source": [
    "## Data Preparation"
   ]
  },
  {
   "cell_type": "code",
   "execution_count": null,
   "id": "a042497d",
   "metadata": {},
   "outputs": [],
   "source": [
    "import pandas as pd"
   ]
  },
  {
   "cell_type": "code",
   "execution_count": null,
   "id": "aeb45838",
   "metadata": {},
   "outputs": [],
   "source": [
    "train_path = '../data/train.csv'\n",
    "test_path = '../data/test.csv'\n",
    "gender_submission_path = '../data/gender_submission.csv'"
   ]
  },
  {
   "cell_type": "code",
   "execution_count": null,
   "id": "31c3b9ad",
   "metadata": {},
   "outputs": [],
   "source": [
    "train_dataframe = pd.read_csv(train_path)\n",
    "test_dataframe = pd.read_csv(test_path)\n",
    "gender_submission_dataframe = pd.read_csv(gender_submission_path)"
   ]
  },
  {
   "cell_type": "code",
   "execution_count": null,
   "id": "acf965b4",
   "metadata": {},
   "outputs": [],
   "source": [
    "train_dataframe.head()"
   ]
  },
  {
   "cell_type": "code",
   "execution_count": null,
   "id": "a4a0a933",
   "metadata": {},
   "outputs": [],
   "source": [
    "test_dataframe.head()"
   ]
  },
  {
   "cell_type": "code",
   "execution_count": null,
   "id": "8fd40f35",
   "metadata": {},
   "outputs": [],
   "source": [
    "gender_submission_dataframe.head()"
   ]
  },
  {
   "cell_type": "code",
   "execution_count": null,
   "id": "80dd9cbc",
   "metadata": {},
   "outputs": [],
   "source": [
    "test_dataframe = test_dataframe.merge(\n",
    "    gender_submission_dataframe,\n",
    "    on='PassengerId',\n",
    "    how='left'\n",
    ")\n",
    "test_dataframe.head()"
   ]
  },
  {
   "cell_type": "code",
   "execution_count": null,
   "id": "0811c8b6",
   "metadata": {},
   "outputs": [],
   "source": [
    "numeric_columns_mask = (train_dataframe.dtypes == float) | (train_dataframe.dtypes == int) | (train_dataframe.dtypes == 'int64')\n",
    "numeric_columns = [column for column in numeric_columns_mask.index if numeric_columns_mask[column] and column != 'Survived']\n",
    "print(numeric_columns_mask)"
   ]
  },
  {
   "cell_type": "code",
   "execution_count": null,
   "id": "a6a32ff2",
   "metadata": {},
   "outputs": [],
   "source": [
    "print(numeric_columns)"
   ]
  },
  {
   "cell_type": "code",
   "execution_count": null,
   "id": "82536444",
   "metadata": {},
   "outputs": [],
   "source": [
    "selected_columns = numeric_columns+['Sex', 'Ticket', 'Cabin', 'Embarked'] + ['Survived']\n",
    "\n",
    "train_dataframe = train_dataframe[selected_columns]\n",
    "test_dataframe = test_dataframe[selected_columns]"
   ]
  },
  {
   "cell_type": "code",
   "execution_count": null,
   "id": "9ff69663",
   "metadata": {},
   "outputs": [],
   "source": [
    "train_dataframe.head()"
   ]
  },
  {
   "cell_type": "code",
   "execution_count": null,
   "id": "b9ce27f9",
   "metadata": {},
   "outputs": [],
   "source": [
    "test_dataframe.head()"
   ]
  },
  {
   "cell_type": "code",
   "execution_count": null,
   "id": "9b23b16b",
   "metadata": {},
   "outputs": [],
   "source": []
  }
 ],
 "metadata": {
  "kernelspec": {
   "display_name": "Python 3 (ipykernel)",
   "language": "python",
   "name": "python3"
  },
  "language_info": {
   "codemirror_mode": {
    "name": "ipython",
    "version": 3
   },
   "file_extension": ".py",
   "mimetype": "text/x-python",
   "name": "python",
   "nbconvert_exporter": "python",
   "pygments_lexer": "ipython3",
   "version": "3.8.3"
  }
 },
 "nbformat": 4,
 "nbformat_minor": 5
}
